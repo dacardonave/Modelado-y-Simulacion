{
 "cells": [
  {
   "cell_type": "markdown",
   "metadata": {},
   "source": [
    "# Metodo de Montecarlo"
   ]
  },
  {
   "cell_type": "markdown",
   "metadata": {},
   "source": [
    "El método de Montecarlo es un método no determinista o estadístico numérico, usado para aproximar expresiones matemáticas complejas y costosas de evaluar con exactitud. El método se llamó así en referencia al Casino de Montecarlo (Mónaco) por ser “la capital del juego de azar”, al ser la ruleta un generador simple de números aleatorios. \n",
    "\n",
    "En la práctica este análisis consiste en ejecutar varias veces los diferentes sucesos variando aleatoriamente su valor en función de la función estadística que los define, dando como resultado un conjunto de valores finales. Este conjunto de valores permite calcular el valor medio y la variabilidad para el conjunto.\n"
   ]
  },
  {
   "cell_type": "markdown",
   "metadata": {},
   "source": [
    "# Utilizando el metodo de montecarlo para aproximar el valor de π "
   ]
  },
  {
   "cell_type": "markdown",
   "metadata": {},
   "source": [
    "<img src=https://elfreneticoinformatico.com/wp-content/uploads/2018/11/Screenshot_1.png>    "
   ]
  },
  {
   "cell_type": "markdown",
   "metadata": {},
   "source": [
    "Sabemos que el lado del cuadrado que contiene al circulo es 2 veces el radio del circulo \n",
    "Por probabilidades podriamos decir que la probabilidad de que un evento x que ocurre dentro del cuadrado caiga dentro del circulo podria describirse de esta forma:\n",
    "\n",
    "<img src=http://elfreneticoinformatico.com/wp-content/uploads/2018/11/Screenshot_1-1.png>\n",
    "\n",
    "<img src=http://elfreneticoinformatico.com/wp-content/uploads/2018/11/Screenshot_1-2.png>\n",
    "\n",
    "\n",
    "\n",
    "y matemaitcamente eso es:\n",
    "\n",
    "<img src=http://elfreneticoinformatico.com/wp-content/uploads/2018/11/pm2.png>\n",
    "\n",
    "despejando nos queda:\n",
    "\n",
    "<img src=http://elfreneticoinformatico.com/wp-content/uploads/2018/11/im1.png>\n"
   ]
  },
  {
   "cell_type": "markdown",
   "metadata": {},
   "source": [
    "En este cálculo se tienen que hacer dos consideraciones importantes:\n",
    "\n",
    "* Si los puntos no están uniformemente distribuidos, el método es inválido.\n",
    "* La aproximación será pobre si solo se lanzan unos pocos puntos. En promedio, la aproximación mejora conforme se aumenta el número de puntos."
   ]
  },
  {
   "cell_type": "markdown",
   "metadata": {},
   "source": [
    "### Implementacion"
   ]
  },
  {
   "cell_type": "markdown",
   "metadata": {},
   "source": [
    "\n",
    "* Generamos dos números aleatorios entre 0 y 1 en total 1000 veces.\n",
    "* Calculamos X * X + Y * Y\n",
    "    * Si el valor es < 1 estaremos dentro del círculo\n",
    "    * Si el valor es > 1 estaremos enconces fuera del círculo\n",
    "* Calculamos el número total de veces (puntos) que están dentro del círculo y dividimos entre el total de intentos. Así obtenemos la probabilidad (aproximada) de caer en el cículo.\n",
    "* Con esa probabilidad podremos aproximar el valor de π, y repetiemos el experimento un número de veces determinadas (por ejemplo 100) para obtener diferentes aproximaciones. Nunca va a ser exacto.\n",
    "* Calculamos el primedio de los 100 experimentos anteiores para el valor final de π."
   ]
  },
  {
   "cell_type": "code",
   "execution_count": 28,
   "metadata": {},
   "outputs": [
    {
     "name": "stdout",
     "output_type": "stream",
     "text": [
      "3.1408000000000014\n"
     ]
    },
    {
     "data": {
      "text/plain": [
       "[<matplotlib.lines.Line2D at 0x1233fb358>]"
      ]
     },
     "execution_count": 28,
     "metadata": {},
     "output_type": "execute_result"
    },
    {
     "data": {
      "image/png": "[encoded data removed]",
      "text/plain": [
       "<Figure size 432x288 with 1 Axes>"
      ]
     },
     "metadata": {
      "needs_background": "light"
     },
     "output_type": "display_data"
    }
   ],
   "source": [
    "import matplotlib.pyplot as plt\n",
    "import numpy as np\n",
    "\n",
    "pi_avg = 0\n",
    "n_exp = 100\n",
    "n = 1000\n",
    "pi_value_list = []\n",
    "for i in range(n_exp):\n",
    "    value = 0\n",
    "    x = np.random.uniform(0,1,n).tolist()\n",
    "    y = np.random.uniform(0,1,n).tolist()\n",
    "    for j in range(n):\n",
    "        z = np.sqrt(x[j] * x[j] + y[j] * y[j])\n",
    "        if z<=1:\n",
    "            # Estamos dentro del circulo\n",
    "            value += 1\n",
    "    float_value = float(value)\n",
    "    pi_value = (float_value * 4) / n\n",
    "    pi_value_list.append(pi_value)\n",
    "    pi_avg += pi_value\n",
    "    \n",
    "pi = pi_avg/n_exp\n",
    "print(pi)\n",
    "plt.plot(pi_value_list)\n",
    "        \n",
    "        "
   ]
  },
  {
   "cell_type": "markdown",
   "metadata": {},
   "source": [
    "Lo que estariamos haciendo es algo como esto: https://upload.wikimedia.org/wikipedia/commons/e/e5/Estimacion_de_Pi_por_Montercarlo.gif"
   ]
  },
  {
   "cell_type": "code",
   "execution_count": 29,
   "metadata": {},
   "outputs": [],
   "source": [
    "# una forma mucho mas corta de implementarlo\n",
    "def pi(n, batch=1000):\n",
    "    t = 0\n",
    "    for i in range(n // batch):\n",
    "        p = np.random.rand(batch, 2)\n",
    "        p = (p * p).sum(axis=1)\n",
    "        t += (p <= 1).sum()\n",
    "    return 4 * t / n"
   ]
  },
  {
   "cell_type": "code",
   "execution_count": 30,
   "metadata": {},
   "outputs": [
    {
     "data": {
      "text/plain": [
       "3.14168936"
      ]
     },
     "execution_count": 30,
     "metadata": {},
     "output_type": "execute_result"
    }
   ],
   "source": [
    "pi(10**8)"
   ]
  },
  {
   "cell_type": "markdown",
   "metadata": {},
   "source": []
  },
  {
   "cell_type": "code",
   "execution_count": null,
   "metadata": {},
   "outputs": [],
   "source": []
  }
 ],
 "metadata": {
  "kernelspec": {
   "display_name": "Python 3",
   "language": "python",
   "name": "python3"
  },
  "language_info": {
   "codemirror_mode": {
    "name": "ipython",
    "version": 3
   },
   "file_extension": ".py",
   "mimetype": "text/x-python",
   "name": "python",
   "nbconvert_exporter": "python",
   "pygments_lexer": "ipython3",
   "version": "3.7.3"
  }
 },
 "nbformat": 4,
 "nbformat_minor": 2
}
