{
  "nbformat": 4,
  "nbformat_minor": 0,
  "metadata": {
    "kernelspec": {
      "display_name": "Python 3",
      "language": "python",
      "name": "python3"
    },
    "language_info": {
      "codemirror_mode": {
        "name": "ipython",
        "version": 3
      },
      "file_extension": ".py",
      "mimetype": "text/x-python",
      "name": "python",
      "nbconvert_exporter": "python",
      "pygments_lexer": "ipython3",
      "version": "3.7.3"
    },
    "colab": {
      "name": "Crecimiento Poblacional .ipynb",
      "provenance": [],
      "include_colab_link": true
    }
  },
  "cells": [
    {
      "cell_type": "markdown",
      "metadata": {
        "id": "view-in-github",
        "colab_type": "text"
      },
      "source": [
        "<a href=\"https://colab.research.google.com/github/dacardonave/Modelado-y-Simulacion/blob/master/Crecimiento_Poblacional_.ipynb\" target=\"_parent\"><img src=\"https://colab.research.google.com/assets/colab-badge.svg\" alt=\"Open In Colab\"/></a>"
      ]
    },
    {
      "cell_type": "markdown",
      "metadata": {
        "id": "-ur4Zri5gOWR",
        "colab_type": "text"
      },
      "source": [
        "## Daniel Cardona Velasquez\n",
        "### Universidad Nacional De Colombia\n",
        "### Modelado y Simulacion"
      ]
    },
    {
      "cell_type": "markdown",
      "metadata": {
        "id": "hQ5gCXIzgTd3",
        "colab_type": "text"
      },
      "source": [
        "Comenzaremos este cuaderno hablando sobre el metodo de integracion de euler, que no es mas que un metodo que nos permite conocer la pendiente a la recta tangente de una curva en un respectivo punto. La idea principal con este metodo es hallar los puntos de equilibrio o ceros de una funcion y ver como se comportan los flujos con respecto a estos puntos. "
      ]
    },
    {
      "cell_type": "markdown",
      "metadata": {
        "id": "n9QM8uVzg4XI",
        "colab_type": "text"
      },
      "source": [
        "A continuacion importamos algunas librerias que usaremos en el desarrollo de este cuaderno y en la implementacion de metodo de Euler. Pueden buscar informacion adicional de cualquiera de estas librerias en internet."
      ]
    },
    {
      "cell_type": "code",
      "metadata": {
        "id": "P7kB46AtgOWT",
        "colab_type": "code",
        "colab": {}
      },
      "source": [
        "import matplotlib.style\n",
        "matplotlib.style.use('classic')\n",
        "import numpy as np\n",
        "from matplotlib import pyplot as plt\n",
        "%matplotlib inline"
      ],
      "execution_count": 0,
      "outputs": []
    },
    {
      "cell_type": "markdown",
      "metadata": {
        "id": "lPyofvOngOWa",
        "colab_type": "text"
      },
      "source": [
        "## Método de Euler\n",
        "Es un método iterativo que a partir de un valor inicial emplea la derivada para conocer la pendiente de la recta tangente en ese punto, para luego trazar una recta hasta el siguente valor con un incremento h.\n",
        "\n",
        "𝑥𝑖+1=𝑥𝑖+ℎ𝑓(𝑡𝑖,𝑥𝑖)\n",
        "\n",
        "Este es el metodo de integracion que vamos a hacer para la visualizacion de los flujos"
      ]
    },
    {
      "cell_type": "code",
      "metadata": {
        "id": "4sDu-sFGgOWb",
        "colab_type": "code",
        "colab": {}
      },
      "source": [
        "# Creacion de la funcion (Metodo de euler)\n",
        "def euler( f, h, tini, tfin, x0, params ):\n",
        "    ti = tini  \n",
        "    xi = x0\n",
        "  \n",
        "    x = list()\n",
        "    t = list()\n",
        "  \n",
        "    while ( ti < tfin ):\n",
        "    \n",
        "      x.append (xi)\n",
        "      t.append (ti)\n",
        "  \n",
        "      xi = xi + h*f(ti,xi,params)\n",
        "      ti = ti + h\n",
        "    return t, x  "
      ],
      "execution_count": 0,
      "outputs": []
    },
    {
      "cell_type": "markdown",
      "metadata": {
        "id": "HU8F9ijShWJm",
        "colab_type": "text"
      },
      "source": [
        "En el apartado anterior es importante reslatar que euler es nuestro metodo de integracion y va a recibir por parametros lo siguiente:\n",
        "* f ----> Va a ser nuestra funcion a evaluar\n",
        "* h ----> Va a ser el paso de integracion a utilizar por el metodo\n",
        "* tini ---> Tiempo inicial \n",
        "* tifin --> Tiempo Final\n",
        "* X0 -----> Valores Iniciales\n",
        "* params ---> Parametros adicionales (si la funcion los requiere)"
      ]
    },
    {
      "cell_type": "markdown",
      "metadata": {
        "id": "PwZ4i1ooilTr",
        "colab_type": "text"
      },
      "source": [
        "## A continuacion haremos dos ejemplos ilustrativos de lo que se quiere lograr antes de implementar el problema de crecimiento poblacional"
      ]
    },
    {
      "cell_type": "markdown",
      "metadata": {
        "id": "3h9MFO70gOWe",
        "colab_type": "text"
      },
      "source": [
        "## 1. Lineal 𝑥˙=𝑎𝑥\n",
        "Dada la ecuación diferencial:\n",
        "\n",
        "𝑥˙=𝑎𝑥 \n",
        "\n",
        "Siendo  𝑎∈ℜ  una constante cualquiera.\n",
        "\n",
        "Graficamos la solución analítica y las aproximaciones numéricas obtenidas con el método de Euler.\n",
        "\n",
        "Varíando el paso de integración  ℎ  se puede observar como varia la precision de los resultados numericos a medida que este se hace mas puequeño."
      ]
    },
    {
      "cell_type": "code",
      "metadata": {
        "id": "JlxzerXagOWf",
        "colab_type": "code",
        "colab": {}
      },
      "source": [
        "def sistema_1(t, x, a):\n",
        "    x_dot = a*x\n",
        "    return x_dot"
      ],
      "execution_count": 0,
      "outputs": []
    },
    {
      "cell_type": "code",
      "metadata": {
        "id": "bQP-O5megOWi",
        "colab_type": "code",
        "colab": {},
        "outputId": "ff1b3acd-8f08-4b8e-c310-7d35125817ca"
      },
      "source": [
        "a = 1\n",
        "h = 0.1\n",
        "tini = 0\n",
        "tfin = 10\n",
        "x0 = 0.8\n",
        "\n",
        "#Grafica de la solucion exacta\n",
        "t = np.linspace(0,10,1001) # h = 0.1\n",
        "x = x0*np.exp(a*t)\n",
        "\n",
        "#Grafica del metodo de Euler\n",
        "t1,x1 = euler( sistema_1, h, tini, tfin, x0, a )\n",
        "\n",
        "\n",
        "\n",
        "#Generando las graficas \n",
        "plt.figure()\n",
        "\n",
        "#gráfica de analítica:\n",
        "plt.plot(  t, x, 'black', label = 'Analytical', linewidth = 2)\n",
        "\n",
        "# gráfica de euler:\n",
        "plt.scatter( t1, x1, c = 'crimson', label = 'Euler', s = 50)\n",
        "\n",
        "plt.xlim([0, tfin])\n",
        "plt.xlabel(r'$t$')\n",
        "plt.grid()\n",
        "plt.legend(loc = 'best')\n",
        "plt.show()\n",
        "\n"
      ],
      "execution_count": 0,
      "outputs": [
        {
          "output_type": "display_data",
          "data": {
            "image/png": "[encoded data removed]",
            "text/plain": [
              "<Figure size 432x288 with 1 Axes>"
            ]
          },
          "metadata": {
            "tags": [],
            "needs_background": "light"
          }
        }
      ]
    },
    {
      "cell_type": "markdown",
      "metadata": {
        "id": "GB8U6QymgOWq",
        "colab_type": "text"
      },
      "source": [
        "## 2. No Lineal  𝑥˙= sin(x)"
      ]
    },
    {
      "cell_type": "markdown",
      "metadata": {
        "id": "WmuVLrPJgOWs",
        "colab_type": "text"
      },
      "source": [
        "Dada la ecuacion 𝑥˙= sin(x)\n",
        "\n",
        "Graficamos la solucion analitica y las aproximaciones numericas obtenidas utilizando el metodo de euler."
      ]
    },
    {
      "cell_type": "code",
      "metadata": {
        "id": "CdEnkEJTgOWt",
        "colab_type": "code",
        "colab": {}
      },
      "source": [
        "def sistema2(t, x, a):\n",
        "    x_dot = a*np.sin(x)\n",
        "    return x_dot"
      ],
      "execution_count": 0,
      "outputs": []
    },
    {
      "cell_type": "code",
      "metadata": {
        "id": "BEgQwInRgOWx",
        "colab_type": "code",
        "colab": {},
        "outputId": "b87feeb2-27d3-4789-a888-3346120d823c"
      },
      "source": [
        "a = 1\n",
        "h = 0.5\n",
        "tini = 0\n",
        "tfin = 10\n",
        "x0 = 0.8\n",
        "\n",
        "t1,x1 = euler( sistema2, h, tini, tfin, x0, a )\n",
        "\n",
        "plt.figure()\n",
        "plt.scatter( t1, x1, c = 'b', label = 'Euler', s = 50)\n",
        "\n",
        "for i in range(-15,15,1):\n",
        "    x0=i\n",
        "    t1,x1 = euler( sistema2, h, tini, tfin, x0, a )\n",
        "    plt.plot( t1, x1, c = 'g', )\n",
        "\n",
        "plt.xlim([0, tfin])\n",
        "plt.xlabel(r'$t$')\n",
        "plt.grid()\n",
        "plt.legend(loc = 'best')\n",
        "plt.show()\n"
      ],
      "execution_count": 0,
      "outputs": [
        {
          "output_type": "display_data",
          "data": {
            "image/png": "[encoded data removed]",
            "text/plain": [
              "<Figure size 432x288 with 1 Axes>"
            ]
          },
          "metadata": {
            "tags": [],
            "needs_background": "light"
          }
        }
      ]
    },
    {
      "cell_type": "markdown",
      "metadata": {
        "id": "ssGji20hi3uh",
        "colab_type": "text"
      },
      "source": [
        "## Luego de estos dos ejemplos, planteamos el problema de crecimiento poblacional"
      ]
    },
    {
      "cell_type": "markdown",
      "metadata": {
        "id": "Qc6kao8bgOW5",
        "colab_type": "text"
      },
      "source": [
        "## 3. Crecimiento de la población \n",
        "\n",
        "El modelo mas simple para describir el crecimiento de una poblacion de organismos es descrito por la ecuación diferencial: \n",
        "\n",
        " $$N˙=rN$$\n",
        "    \n",
        "Donde N(t) es la poblacion en el tiempo t, y r>0 es la tasa de crecimiento.\n",
        "\n",
        "Este modelo predice un crecimiento poblacional que por supuesto no puede continuar para siempre. Para modelar lso efectos del exceso hacinamiento y recursos limitados, los biologos a menudo asumen la tasas de crecimiento per capita N˙/N como se muestra a continuacion.\n",
        "\n",
        "![image.png](attachment:image.png)\n",
        "\n",
        "Sin embargo, para poblaciones mas grandes que cierta capacidad de carga K, la tasa de crecimiento en realidad se vuelve negativa; la tasa de mortalidad es mayor que la tasa de natalidad.\n",
        "Una manera matematicamente conveniente de incorporar esta idea es asumir que el rango de crecimiento per capita decrese linealmente con N.\n",
        "\n",
        "\n",
        "\n",
        "Esto nos lleva a la ecuacion Logistica\n",
        "\n",
        " $$N˙=rN(1-(N/K))$$\n",
        "\n",
        " "
      ]
    },
    {
      "cell_type": "code",
      "metadata": {
        "id": "O9lBbLdbgOW6",
        "colab_type": "code",
        "colab": {}
      },
      "source": [
        "def sistema_3( t, N, params):\n",
        "    \n",
        "    r, k = params\n",
        "\n",
        "    N_dot = r*N*(1-(N/k))\n",
        "    \n",
        "    return N_dot"
      ],
      "execution_count": 0,
      "outputs": []
    },
    {
      "cell_type": "markdown",
      "metadata": {
        "id": "c-yb8mwwgOW9",
        "colab_type": "text"
      },
      "source": [
        "Ahora podemos mostrar con la ayuda del metodo de integracion de euler, las aproximacion numericas obtenidas "
      ]
    },
    {
      "cell_type": "code",
      "metadata": {
        "id": "aQgy94NzgOW-",
        "colab_type": "code",
        "colab": {},
        "outputId": "db330d46-22e3-43a0-d14e-5f23d3857068"
      },
      "source": [
        "r = 1\n",
        "k = 10\n",
        "h= 0.1\n",
        "tini = 0\n",
        "tfin = 10\n",
        "x0 = 1\n",
        "\n",
        "t2,x2 = euler( sistema_3, h, tini, tfin, x0, [r,k] )\n",
        "\n",
        "plt.figure()\n",
        "plt.scatter( t2, x2, c = 'r', label = 'Euler', s = 50)\n",
        "\n",
        "for i in range(1,20,1):\n",
        "    x0=i\n",
        "    t2,x2 = euler( sistema_3, h, tini, tfin, x0, [r,k] )\n",
        "    plt.plot( t2, x2, c = 'b')\n",
        "\n",
        "plt.ylabel('N')\n",
        "plt.xlim([0, tfin])\n",
        "plt.xlabel(r'$t$')\n",
        "plt.grid()\n",
        "plt.legend(loc='best')\n",
        "plt.show()"
      ],
      "execution_count": 0,
      "outputs": [
        {
          "output_type": "display_data",
          "data": {
            "image/png": "[encoded data removed]",
            "text/plain": [
              "<Figure size 432x288 with 1 Axes>"
            ]
          },
          "metadata": {
            "tags": [],
            "needs_background": "light"
          }
        }
      ]
    },
    {
      "cell_type": "code",
      "metadata": {
        "id": "lSghb1tPgOXB",
        "colab_type": "code",
        "colab": {}
      },
      "source": [
        ""
      ],
      "execution_count": 0,
      "outputs": []
    }
  ]
}